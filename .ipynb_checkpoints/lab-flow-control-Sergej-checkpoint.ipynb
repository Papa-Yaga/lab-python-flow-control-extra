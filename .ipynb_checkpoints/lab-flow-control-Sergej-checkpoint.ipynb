{
 "cells": [
  {
   "cell_type": "markdown",
   "id": "d3bfc191-8885-42ee-b0a0-bbab867c6f9f",
   "metadata": {
    "tags": []
   },
   "source": [
    "# Lab | Flow Control"
   ]
  },
  {
   "cell_type": "markdown",
   "id": "303cceb0-f898-4c5f-99bd-c04e131e1ded",
   "metadata": {},
   "source": [
    "Objective: Practice how to use programming constructs like if/else statements and loops to control the flow of a program's execution."
   ]
  },
  {
   "cell_type": "markdown",
   "id": "42fd260a-9eb2-4c39-9989-f2c8c70552ec",
   "metadata": {},
   "source": [
    "## Challenge: The Haunted Mansion"
   ]
  },
  {
   "cell_type": "markdown",
   "id": "7086f8f7-ded2-48e5-b966-7ec44fb57ca5",
   "metadata": {},
   "source": [
    "You are a brave adventurer who has decided to explore the Haunted Mansion, a decrepit old building that is rumored to be haunted by ghosts and spirits. Your objective is to find the treasure that is hidden somewhere in the mansion.\n",
    "\n",
    "## Requirements\n",
    "\n",
    "- Your script should have at least two functions: \"run_mansion()\" and \"encounter_ghost()\".\n",
    "- Your script should use if-else statements, while loops, for loops, combined loops, or nested loops to control the flow of execution.\n",
    "- Your script should prompt the user for input to make decisions on which path to take or what actions to perform.\n",
    "- Your script should include random events and obstacles that can either help or hinder the adventurer in their quest.\n",
    "- Your script should have an objective of finding the treasure at the end of the mansion.\n",
    "\n",
    "## Instructions\n",
    "\n",
    "- Begin by creating a list of items that the adventurer can pick up along the way. These items will be used to help the adventurer overcome obstacles and defeat ghosts. Examples of items can be weapons, potions, keys, etc.\n",
    "\n",
    "- Complete the function called \"run_mansion()\" that serves as the main function for the game. Within \"run_mansion()\", prompt the user to choose a path to take at each intersection. Each path should have its unique challenges and obstacles that the adventurer must overcome.\n",
    "\n",
    "- Use loops to check if the adventurer has enough health points to continue the game. If their health points drop to zero, the game is over.\n",
    "\n",
    "- Complete the function called \"encounter_ghost()\" that will be used to handle ghost encounters. The function should use random events to determine the outcome of the encounter, and the adventurer should use their items to help them defeat the ghost.\n",
    "\n",
    "- Use loops to generate random events or items along the way. These events can either help or hinder the adventurer, and the outcome should be based on random chance.\n",
    "\n",
    "- At the end of the mansion, the adventurer will find the treasure, and the game will end.\n",
    "\n"
   ]
  },
  {
   "cell_type": "markdown",
   "id": "8846d61d-cf9d-4ad4-bbb8-1ecb3bb22005",
   "metadata": {},
   "source": [
    "*Introduction to Functions*:\n",
    "\n",
    "    Functions are blocks of code that perform a specific task. They are used to break up complex code into smaller, more manageable parts, which can make your code easier to read and understand. Functions can also be reused multiple times throughout your code, which can save you a lot of time and effort.\n",
    "\n",
    "    Functions are defined using the def keyword, followed by the name of the function and a set of parentheses. Inside the parentheses, you can list any arguments that the function needs in order to perform its task. These arguments are optional, but they can be useful if you need to pass data into the function from outside.\n",
    "\n",
    "    Once you have defined a function, you can call it from anywhere in your code using its name and passing any necessary arguments. When the function is called, the code inside it is executed, and any values that it returns are passed back to the calling code.\n",
    "\n",
    "    In this exercise, we have defined a function called encounter_ghost that simulates a battle between the adventurer and a ghost, and run_mansion. Your task is to complete these functions by using flow control statements such as if, else, while, for loops, and nested loops. Remember to pay attention to the instructions and comments provided in the function to help guide you. Once you have completed the function encounter_ghost, you can call it from the main code to simulate the battle and test your implementation.\n",
    "\n",
    "    Good luck!"
   ]
  },
  {
   "cell_type": "code",
   "execution_count": 165,
   "id": "8c5194ee-0281-45a8-9a69-00b4663e506e",
   "metadata": {},
   "outputs": [],
   "source": [
    "import random as rnd\n",
    "\n",
    "possible_items = [\"health potion\", \"sword\", \"bow\", \"shield\", \"magic wand\", \"magic cape\", \"pile of coins\"] # weighted: 10 30 20 30 5 30 50\n",
    "possible_foes = [\"a ghost\", \"rats\", \"evil bats\", \"the evil mage\", \"a burglar\"] # weighted: 10 40 20 5 30\n",
    "possible_events = [\"talking door\", \"trap door\", \"spike trap\", \"merchant\", \"golden door\", \"empty\", \"treasure chest\"] # weighted: 10 20 30 10 5 50\n",
    "\n",
    "items = set()\n",
    "health = 10\n",
    "gold = 0"
   ]
  },
  {
   "cell_type": "code",
   "execution_count": 161,
   "id": "499552c8-9e30-46e1-a706-4ac5dc64670e",
   "metadata": {},
   "outputs": [],
   "source": [
    "def encounter(enemy):\n",
    "    \"\"\"\n",
    "    This function handles the encounter with a ghost. \n",
    "    The outcome of the battle is determined by a random number between 1 and 10.\n",
    "    If the random number is less than or equal to 5, the adventurer defeats the ghost. In this case, print the message \"You defeated the ghost!\" \n",
    "    and return something that indicates the adventurer defeated the ghost.\n",
    "    If the random number is greater than 5, the adventurer loses the battle. In this case, print \"You lost the battle...\"\n",
    "    and return something that indicates the ghost defeated the adventurer.\n",
    "    \"\"\"\n",
    "\n",
    "    print(f\"You encounter {enemy}!\")\n",
    "    outcome = 0\n",
    "    for upgrade in [\"sword\",\"shield\"]:\n",
    "        if upgrade in items:\n",
    "            outcome += 1\n",
    "    \"\"\"\n",
    "    Introduces the Ghost, an enemy that drops the golden key if defeated and deals 2 damage if not.\n",
    "    \"\"\"\n",
    "    if enemy == \"a ghost\":\n",
    "        outcome += rnd.randint(1,11)\n",
    "        if outcome <= 4:\n",
    "            print(\"You have vanquished the ghost! Praise the hero!\")\n",
    "            print(\"Look at that! You found a key in the ghostly remains!\\nYou can now open the door to the mansion and escape!\")\n",
    "            items.add(\"golden key\")\n",
    "        else:\n",
    "            health -= 2\n",
    "            print(f\"Oh no! You lost to a ghost! You loose two of your healthpoints and are now left with {health-2}\")\n",
    "            print(\"What a pity... another ghost will soon join the haunt\")\n",
    "\n",
    "    # Introduces the Rats, an enemy that drops some money if defeated but can potentially destroy an item or some gold if not.\n",
    "    \n",
    "    elif enemy == \"rats\":\n",
    "        outcome += rnd.randint(1,11)\n",
    "        print(\"A horde of rabid rats attacks you from the shadows!\")\n",
    "        if outcome <= 6:\n",
    "            print(\"With wild swiping attacks you fight off the rats! Praise the exterminator!\")\n",
    "            print(\"Amidst the retreating masses you see some coins!\")\n",
    "            added_gold = gold.add(rnd.randrange(5,50,5))\n",
    "            print(f\"You add {added_gold} gold to your bag\")\n",
    "        elif outcome == 7:\n",
    "            if len(items) != 0:\n",
    "                random_item = rnd.choices(items)[0]\n",
    "                print(f\"More and more rats ambush you! In your panic you drop your {random_item}.\")\n",
    "                items.remove(random_item)\n",
    "            elif gold > 25:\n",
    "                drop_gold = rng.randrange(5,25,5)\n",
    "                print(f\"More and more rats ambush you! In your panic you drop {drop_gold} of your coins.\")\n",
    "            else:\n",
    "                health -= 1\n",
    "                print(f\"The rats overwhelm you, biting fiercly You loose two health points and are now at {health}.\")    \n",
    "                \n",
    "    elif enemy == \"evil bats\":\n",
    "        pass\n",
    "    elif enemy == \"evil mage\":\n",
    "        pass\n",
    "    elif enemy == \"burglar\":\n",
    "        pass"
   ]
  },
  {
   "cell_type": "code",
   "execution_count": 162,
   "id": "3b5422bb-a071-4c63-bb15-52f15c8c2205",
   "metadata": {},
   "outputs": [],
   "source": [
    "def talking_door():\n",
    "    goal = rnd.randint(1,health)\n",
    "    print(f\"The door is thinking about {goal}\")\n",
    "    door_riddle = input(f\"I am magical door! To pass me, you must guess my thoughts! Haha, what number am i thinking off?\\n(Enter a number between 1 and {life})\")\n",
    "    if door_riddle == str(goal):\n",
    "        print(\"How...how did you know! Aaaargh!!\\nThe door breaks open, revealing a healing potion behind it, which you pick up.\")\n",
    "        if \"health potion\" in items:\n",
    "            print(\"You find a health potion... but you already have one, so you leave it behind.\")\n",
    "        else:\n",
    "            items.add(\"health potion\")\n",
    "    else:\n",
    "        print(\"Ehehehe, that is not correct!\\nA cold wind throws you to the floor as the door fades into the wall.\")\n",
    "        print(f\"You feel a sudden pang of pain and are now left with {health-1}\")\n",
    "        health -= 1\n",
    "\n",
    "def trap_door():\n",
    "    print(\"You feel the ground open up underneath you! You start falling!\")\n",
    "    if \"magic cape\" in items:\n",
    "        print(\"Suddenly your magical cape comes alife and carries you into the air! You are safe...for now.\")\n",
    "        print(\"As you reach the surface again, your cape disintegrates...\")\n",
    "        items.remove(\"magic cape\")\n",
    "    else:\n",
    "        print(f\"You slam on the ground and feel your bones break... you are now left with {health-3} health points\")\n",
    "        health -= 3\n",
    "        new_enemy = rnd.choices(possible_foes, weights = [10,40,20,5,30])\n",
    "        print(f\"Before you... stands an enemy! Its {new_enemy}\")\n",
    "        encounter(new_enemy)\n",
    "\n",
    "def spike_trap():\n",
    "    damage = rnd.randint(1,3)\n",
    "    print(f\"Ouch! Vicious spikes erupt from the floor underneath you! You loose {damage} health points!\")\n",
    "    health -= damage\n",
    "    print(f\"You are now at {health} health points.\")\n",
    "\n",
    "def merchant():\n",
    "    pass\n",
    "\n",
    "def golden_door():\n",
    "    offer = input(\"You see golden door before you. It seems to be closed, do you want to try and open it anyway? (yes/no)\")\n",
    "    if \"yes\" in offer.lesser():\n",
    "        if \"golden key\" in items:\n",
    "            print(\"You manage to open the golden door and escape the spooky mansion!\")\n",
    "            return True\n",
    "        else:\n",
    "            print(\"Unfortunately it seems like you need an equally golden key to open the door.\")\n",
    "            enemy = rnd.choices(possible_foes, weights = [10,40,20,5,30])\n",
    "            print(f\"As you look upon the closed door, an {enemy} appears and attacks you!\")\n",
    "            encounter(enemy)\n",
    "\n",
    "def treasure():\n",
    "    item = rnd.choices(possible_items, weights=[10,30,20,30,5,30,50])\n",
    "    if item != \"pile of coins\":\n",
    "        print(f\"You find a treasure chest! Inside, there is a {item}!\")\n",
    "        items.add(item)\n",
    "    else:\n",
    "        coins = rnd.randrange(25,200,25)\n",
    "        print(f\"You find a pile of gold on the floor! Lucky you! You stash the {coins} golden coins in your bag\")\n",
    "        if gold + coins > 500:\n",
    "            print(\"You fill up your bag with the gold until you have 500 coins. The rest you leave behind for another day...\")\n",
    "            gold = 500\n",
    "        elif gold == 500:\n",
    "            print(\"You already have a full bag. You leave the gold for another day...\")\n",
    "        else:\n",
    "            gold += coins\n",
    "            print(f\"You put the coins in your bag. You now have {gold} gold coins\")"
   ]
  },
  {
   "cell_type": "code",
   "execution_count": 163,
   "id": "d3e4076b-48cc-41ac-95ad-891743e775f5",
   "metadata": {},
   "outputs": [],
   "source": [
    "# main function for the game\n",
    "def run_mansion():\n",
    "    \n",
    "    print(\"Welcome to the Haunted Mansion!\")\n",
    "    \n",
    "    \"\"\"\n",
    "    \"\"\"\n",
    "    while True:\n",
    "        if health <= 0:\n",
    "            if \"health potion\" in items:\n",
    "                print(\"Phew, luckily you had a health potion in your backpack...\")\n",
    "                items.remove(\"health potion\")\n",
    "                health = 2\n",
    "                print(\"You are now back to 2 health. Continue your journey!\")\n",
    "            else:\n",
    "                print(\"Game over, you lost all your health points...\")\n",
    "                break\n",
    "        choose_side = input(\"Two paths lead through the mansions spooky walls. Pick a side, left? Or right?\")\n",
    "        if \"left\" in choose_side.lower():\n",
    "            chance = 1\n",
    "            # chance = rnd.choices([1,2,3], weights=[50,30,10])\n",
    "            if chance == 1:\n",
    "                event = rnd.choices(possible_events, weights=[100,20,30,10,5,50,40])\n",
    "                print(event)\n",
    "                if event[0] == \"talking door\":\n",
    "                    talking_door()  \n",
    "                elif event[0] == \"trap door\":\n",
    "                    trap_door()\n",
    "                elif event[0] == \"spike trap\":\n",
    "                    spike_trap()\n",
    "                elif event[0] == \"merchant\":\n",
    "                    pass\n",
    "                    # merchant()\n",
    "                elif event[0] == \"golden door\":\n",
    "                    if golden_door(items):\n",
    "                        print(\"Finally, freedom!\")\n",
    "                        break\n",
    "                elif event[0] == \"treasure chest\":\n",
    "                    treasure()\n",
    "                else:\n",
    "                    print(\"Hmm... seems like there is nothing here...\")\n",
    "            else:\n",
    "                print(\"You found a health potion!\")\n",
    "                items.add(\"health potion\")\n",
    "        elif \"right\" in choose_side.lower():\n",
    "            random_enemy = rnd.choices(possible_foes, weights = [10,40,20,5,30])\n",
    "            encounter(random_enemy)"
   ]
  },
  {
   "cell_type": "markdown",
   "id": "9e13a33c-38e5-44b3-bd1b-9a642c962c89",
   "metadata": {},
   "source": [
    "To run the game, simply call the run_mansion() function:"
   ]
  },
  {
   "cell_type": "code",
   "execution_count": 164,
   "id": "f238dc90-0be2-4d8c-93e9-30a1dc8a5b72",
   "metadata": {},
   "outputs": [
    {
     "name": "stdout",
     "output_type": "stream",
     "text": [
      "Welcome to the Haunted Mansion!\n"
     ]
    },
    {
     "name": "stdin",
     "output_type": "stream",
     "text": [
      "Two paths lead through the mansions spooky walls. Pick a side, left? Or right? left\n"
     ]
    },
    {
     "name": "stdout",
     "output_type": "stream",
     "text": [
      "['talking door']\n"
     ]
    },
    {
     "ename": "UnboundLocalError",
     "evalue": "cannot access local variable 'health' where it is not associated with a value",
     "output_type": "error",
     "traceback": [
      "\u001b[1;31m---------------------------------------------------------------------------\u001b[0m",
      "\u001b[1;31mUnboundLocalError\u001b[0m                         Traceback (most recent call last)",
      "Cell \u001b[1;32mIn[164], line 1\u001b[0m\n\u001b[1;32m----> 1\u001b[0m run_mansion()\n",
      "Cell \u001b[1;32mIn[163], line 27\u001b[0m, in \u001b[0;36mrun_mansion\u001b[1;34m()\u001b[0m\n\u001b[0;32m     25\u001b[0m \u001b[38;5;28mprint\u001b[39m(event)\n\u001b[0;32m     26\u001b[0m \u001b[38;5;28;01mif\u001b[39;00m event[\u001b[38;5;241m0\u001b[39m] \u001b[38;5;241m==\u001b[39m \u001b[38;5;124m\"\u001b[39m\u001b[38;5;124mtalking door\u001b[39m\u001b[38;5;124m\"\u001b[39m:\n\u001b[1;32m---> 27\u001b[0m     talking_door()  \n\u001b[0;32m     28\u001b[0m \u001b[38;5;28;01melif\u001b[39;00m event[\u001b[38;5;241m0\u001b[39m] \u001b[38;5;241m==\u001b[39m \u001b[38;5;124m\"\u001b[39m\u001b[38;5;124mtrap door\u001b[39m\u001b[38;5;124m\"\u001b[39m:\n\u001b[0;32m     29\u001b[0m     trap_door()\n",
      "Cell \u001b[1;32mIn[162], line 2\u001b[0m, in \u001b[0;36mtalking_door\u001b[1;34m()\u001b[0m\n\u001b[0;32m      1\u001b[0m \u001b[38;5;28;01mdef\u001b[39;00m \u001b[38;5;21mtalking_door\u001b[39m():\n\u001b[1;32m----> 2\u001b[0m     goal \u001b[38;5;241m=\u001b[39m rnd\u001b[38;5;241m.\u001b[39mrandint(\u001b[38;5;241m1\u001b[39m,health)\n\u001b[0;32m      3\u001b[0m     \u001b[38;5;28mprint\u001b[39m(\u001b[38;5;124mf\u001b[39m\u001b[38;5;124m\"\u001b[39m\u001b[38;5;124mThe door is thinking about \u001b[39m\u001b[38;5;132;01m{\u001b[39;00mgoal\u001b[38;5;132;01m}\u001b[39;00m\u001b[38;5;124m\"\u001b[39m)\n\u001b[0;32m      4\u001b[0m     door_riddle \u001b[38;5;241m=\u001b[39m \u001b[38;5;28minput\u001b[39m(\u001b[38;5;124mf\u001b[39m\u001b[38;5;124m\"\u001b[39m\u001b[38;5;124mI am magical door! To pass me, you must guess my thoughts! Haha, what number am i thinking off?\u001b[39m\u001b[38;5;130;01m\\n\u001b[39;00m\u001b[38;5;124m(Enter a number between 1 and \u001b[39m\u001b[38;5;132;01m{\u001b[39;00mlife\u001b[38;5;132;01m}\u001b[39;00m\u001b[38;5;124m)\u001b[39m\u001b[38;5;124m\"\u001b[39m)\n",
      "\u001b[1;31mUnboundLocalError\u001b[0m: cannot access local variable 'health' where it is not associated with a value"
     ]
    }
   ],
   "source": [
    "run_mansion()"
   ]
  },
  {
   "cell_type": "markdown",
   "id": "88212f63-3bdb-479f-bf6c-4ecd0685d39a",
   "metadata": {},
   "source": [
    "This should print the game's narrative and prompt the user to make choices and fight ghosts. The game ends when the adventurer finds the key or loses all their health points. "
   ]
  },
  {
   "cell_type": "code",
   "execution_count": 55,
   "id": "bc8110b1-0064-487b-a527-1c5c63343a47",
   "metadata": {},
   "outputs": [
    {
     "name": "stdout",
     "output_type": "stream",
     "text": [
      "['empty']\n",
      "['trap door']\n",
      "['talking door']\n",
      "['treasure chest']\n",
      "['merchant']\n",
      "['talking door']\n",
      "['trap door']\n",
      "['treasure chest']\n",
      "['trap door']\n",
      "['talking door']\n"
     ]
    }
   ],
   "source": [
    "for i in range(10):\n",
    "    event = rnd.choices(possible_events, weights=[100,20,30,10,5,50,40])\n",
    "    print(f\"{event}\")"
   ]
  },
  {
   "cell_type": "code",
   "execution_count": null,
   "id": "9eb56756-fd6d-4ed4-9ed1-4a5d8a0a1f86",
   "metadata": {},
   "outputs": [],
   "source": []
  }
 ],
 "metadata": {
  "kernelspec": {
   "display_name": "Python 3 (ipykernel)",
   "language": "python",
   "name": "python3"
  },
  "language_info": {
   "codemirror_mode": {
    "name": "ipython",
    "version": 3
   },
   "file_extension": ".py",
   "mimetype": "text/x-python",
   "name": "python",
   "nbconvert_exporter": "python",
   "pygments_lexer": "ipython3",
   "version": "3.11.7"
  }
 },
 "nbformat": 4,
 "nbformat_minor": 5
}
